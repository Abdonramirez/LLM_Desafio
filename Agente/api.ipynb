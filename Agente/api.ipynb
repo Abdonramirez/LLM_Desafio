{
 "cells": [
  {
   "cell_type": "code",
   "execution_count": 1,
   "id": "94cd983d",
   "metadata": {},
   "outputs": [],
   "source": [
    "import streamlit as st\n",
    "from langchain_core.messages import HumanMessage, AIMessage\n",
    "# from lib.agent import rag_agent\n",
    "import os\n",
    "from utils import (\n",
    "    cargar_estilos,\n",
    "    guia_de_uso,\n",
    "    mensaje_usuario,\n",
    "    mensaje_bot,\n",
    "    historial_chat,\n",
    ")\n",
    "import time\n",
    "import pprint"
   ]
  },
  {
   "cell_type": "code",
   "execution_count": null,
   "id": "2c65e76f",
   "metadata": {},
   "outputs": [],
   "source": [
    "# Streamlit user interface\n",
    "st.set_page_config(\n",
    "    page_title=\"Assistant\",\n",
    "    page_icon=\":smile:\",\n",
    "    layout=\"wide\",\n",
    "    initial_sidebar_state=\"collapsed\",\n",
    ")\n",
    "\n",
    "cargar_estilos(os.path.join(os.path.dirname(__file__), '../static/style.css'))\n",
    "\n",
    "if \"messages\" not in st.session_state:\n",
    "    st.session_state[\"messages\"] = []\n",
    "\n",
    "message_container = st.container()\n",
    "\n",
    "with message_container:\n",
    "    mensaje_bot(\n",
    "        \"\"\"Hello! I'm your **virtual assistant** and I'd be delighted to assist you in any way I can. If you're unsure how I can be of help, please feel free to take a look at the user guideline below, which outlines the services I can provide.\"\"\"\n",
    "    )\n",
    "    guia_de_uso()\n",
    "    mensaje_bot(\"\"\"Could I ask what I can do for you?\"\"\")\n",
    "\n",
    "    # Display chat history in order\n",
    "    historial_chat(st.session_state[\"messages\"])\n",
    "\n",
    "# Input box at the bottom using st.chat_input\n",
    "user_input = st.chat_input(\"Type your message:\")\n",
    "\n",
    "inicio = time.time() \n",
    "if user_input:\n",
    "    with message_container:\n",
    "        mensaje_usuario(user_input)\n",
    "        st.session_state[\"messages\"].append(HumanMessage(content=user_input))\n",
    "        with st.chat_message(\n",
    "            \"assistant\",\n",
    "            avatar=os.path.join(os.path.dirname(__file__), '../static/img/bot.png')\n",
    "        ):\n",
    "            # Get assistant's response using the LangGraph agent\n",
    "            responses = rag_agent.invoke(\n",
    "                {\"messages\": st.session_state[\"messages\"]},\n",
    "                config={\"configurable\": {\"thread_id\": \"42\"}},\n",
    "            )\n",
    "            pprint.pprint(responses)\n",
    "            st.markdown(responses[\"messages\"][-1].content)\n",
    "            # # Add assistant's response to history\n",
    "            for message in responses[\"messages\"]:\n",
    "                message.pretty_print()\n",
    "            st.session_state[\"messages\"].append(\n",
    "                AIMessage(content=responses[\"messages\"][-1].content)\n",
    "            )\n",
    "fin = time.time()\n",
    "\n",
    "print(f\"Tiempo de ejecución: {fin - inicio:.4f} segundos\")\n"
   ]
  },
  {
   "cell_type": "code",
   "execution_count": null,
   "id": "3da49fa4",
   "metadata": {},
   "outputs": [],
   "source": []
  },
  {
   "cell_type": "code",
   "execution_count": null,
   "id": "1d227eb6",
   "metadata": {},
   "outputs": [],
   "source": []
  },
  {
   "cell_type": "code",
   "execution_count": null,
   "id": "81748e6a",
   "metadata": {},
   "outputs": [],
   "source": []
  },
  {
   "cell_type": "code",
   "execution_count": null,
   "id": "93e25286",
   "metadata": {},
   "outputs": [],
   "source": []
  },
  {
   "cell_type": "code",
   "execution_count": null,
   "id": "f1e5e441",
   "metadata": {},
   "outputs": [],
   "source": []
  },
  {
   "cell_type": "code",
   "execution_count": null,
   "id": "c82685e9",
   "metadata": {},
   "outputs": [],
   "source": []
  }
 ],
 "metadata": {
  "kernelspec": {
   "display_name": ".venv",
   "language": "python",
   "name": "python3"
  },
  "language_info": {
   "codemirror_mode": {
    "name": "ipython",
    "version": 3
   },
   "file_extension": ".py",
   "mimetype": "text/x-python",
   "name": "python",
   "nbconvert_exporter": "python",
   "pygments_lexer": "ipython3",
   "version": "3.11.11"
  }
 },
 "nbformat": 4,
 "nbformat_minor": 5
}
