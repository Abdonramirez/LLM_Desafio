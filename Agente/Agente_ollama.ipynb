{
 "cells": [
  {
   "cell_type": "code",
   "execution_count": 1,
   "id": "3966b7c3",
   "metadata": {},
   "outputs": [],
   "source": [
    "import pandas as pd\n",
    "from langchain.vectorstores import FAISS\n",
    "from langchain.text_splitter import RecursiveCharacterTextSplitter\n",
    "from langchain_huggingface.embeddings import HuggingFaceEmbeddings\n",
    "from langchain.schema import Document\n",
    "from langgraph.graph import StateGraph, END"
   ]
  },
  {
   "cell_type": "code",
   "execution_count": 2,
   "id": "9a0ef226",
   "metadata": {},
   "outputs": [],
   "source": [
    "df = pd.read_csv(\"..\\data\\processed\\Articulos_LLM5.csv\")\n",
    "df = df.drop_duplicates()"
   ]
  },
  {
   "cell_type": "code",
   "execution_count": 4,
   "id": "398f5295",
   "metadata": {},
   "outputs": [
    {
     "data": {
      "text/plain": [
       "(797, 10)"
      ]
     },
     "execution_count": 4,
     "metadata": {},
     "output_type": "execute_result"
    }
   ],
   "source": [
    "df.shape"
   ]
  },
  {
   "cell_type": "code",
   "execution_count": 11,
   "id": "bdbcfb70",
   "metadata": {},
   "outputs": [],
   "source": [
    "df.to_csv(\"Articulos_LLM6.csv\",index=False)"
   ]
  },
  {
   "cell_type": "code",
   "execution_count": 5,
   "id": "724ada07",
   "metadata": {},
   "outputs": [],
   "source": [
    "docs = [\n",
    "    Document(\n",
    "        page_content=row[\"contenido\"],\n",
    "        metadata={\n",
    "            \"titulo\": row[\"titulo\"],\n",
    "            \"url\": row[\"url\"],\n",
    "            \"precio\": row.get(\"Precios\", \"\"),\n",
    "            \"fecha_inicio\": row.get(\"fecha_inicio\", \"\"),\n",
    "            \"fecha_fin\": row.get(\"fecha_fin\", \"\"),\n",
    "            \"seccion\": row[\"seccion\"],\n",
    "            \"ciudad\": row[\"ciudad\"]\n",
    "        }\n",
    "    )\n",
    "    for _, row in df.iterrows()\n",
    "]\n"
   ]
  },
  {
   "cell_type": "code",
   "execution_count": 6,
   "id": "ac784819",
   "metadata": {},
   "outputs": [],
   "source": [
    "splitter = RecursiveCharacterTextSplitter(\n",
    "    chunk_size=800,\n",
    "    chunk_overlap=100,\n",
    "    separators=[\"\\n\\n\", \"\\n\", \".\", \" \"]\n",
    ")\n",
    "\n",
    "# Crear los Document chunked\n",
    "chunked_docs = []\n",
    "\n",
    "for _, row in df.iterrows():\n",
    "    texto = row[\"contenido\"]\n",
    "    if pd.isnull(texto):\n",
    "        continue\n",
    "    chunks = splitter.split_text(texto)\n",
    "    for i, chunk in enumerate(chunks):\n",
    "        chunked_docs.append(Document(\n",
    "            page_content=chunk,\n",
    "            metadata={\n",
    "            \"titulo\": row[\"titulo\"],\n",
    "            \"url\": row[\"url\"],\n",
    "            \"precio\": row.get(\"Precios\", \"\"),\n",
    "            \"fecha_inicio\": row.get(\"fecha_inicio\", \"\"),\n",
    "            \"fecha_fin\": row.get(\"fecha_fin\", \"\"),\n",
    "            \"seccion\": row[\"seccion\"],\n",
    "            \"ciudad\": row[\"ciudad\"]\n",
    "            }\n",
    "    )\n",
    "        )"
   ]
  },
  {
   "cell_type": "code",
   "execution_count": 7,
   "id": "4c89fe6b",
   "metadata": {},
   "outputs": [],
   "source": [
    "embedding_model = HuggingFaceEmbeddings(model_name=\"sentence-transformers/all-MiniLM-L6-v2\")\n",
    "\n",
    "# Vectorstore\n",
    "vectorstore = FAISS.from_documents(chunked_docs, embedding_model)"
   ]
  },
  {
   "cell_type": "code",
   "execution_count": 8,
   "id": "1668a1f4",
   "metadata": {},
   "outputs": [
    {
     "name": "stderr",
     "output_type": "stream",
     "text": [
      "C:\\Users\\Abdon\\AppData\\Local\\Temp\\ipykernel_17100\\1047498977.py:10: LangChainDeprecationWarning: The class `Ollama` was deprecated in LangChain 0.3.1 and will be removed in 1.0.0. An updated version of the class exists in the :class:`~langchain-ollama package and should be used instead. To use it run `pip install -U :class:`~langchain-ollama` and import as `from :class:`~langchain_ollama import OllamaLLM``.\n",
      "  llm = Ollama(model=\"mistral\")\n"
     ]
    }
   ],
   "source": [
    "import re\n",
    "from datetime import datetime, timedelta\n",
    "from langchain.schema import Document\n",
    "from langgraph.graph import StateGraph, END\n",
    "from typing import TypedDict, List\n",
    "from datetime import datetime,timedelta\n",
    "from langchain_community.llms import Ollama\n",
    "\n",
    "# 1. Configura tu modelo local con Ollama\n",
    "llm = Ollama(model=\"mistral\")\n",
    "\n",
    "class AgentState(TypedDict):\n",
    "    query: str\n",
    "    documents: List[Document]\n",
    "    generation: str\n",
    "\n",
    "\n",
    "def parse_fecha(fecha_str):\n",
    "    \"\"\"Intenta convertir un string como '15 de mayo' o 'domingo 27 de abril' en un objeto datetime.date\"\"\"\n",
    "    try:\n",
    "        fecha_str = re.sub(r'^\\w+\\s', '', fecha_str.strip())\n",
    "        return datetime.strptime(fecha_str, \"%d de %B\").replace(year=datetime.now().year).date()\n",
    "    except Exception:\n",
    "        return None\n",
    "\n",
    "\n",
    "def detectar_intencion_temporal(query):\n",
    "    \"\"\"Detecta si el usuario está preguntando por hoy, mañana, fin de semana, etc.\"\"\"\n",
    "    hoy = datetime.now().date()\n",
    "    query = query.lower()\n",
    "\n",
    "    if \"hoy\" in query:\n",
    "        return lambda fecha_ini, fecha_fin: fecha_ini <= hoy <= fecha_fin\n",
    "    elif \"mañana\" in query:\n",
    "        manana = hoy + timedelta(days=1)\n",
    "        return lambda fecha_ini, fecha_fin: fecha_ini <= manana <= fecha_fin\n",
    "    elif \"semana que viene\" in query:\n",
    "        prox_lunes = hoy + timedelta(days=(7 - hoy.weekday()))\n",
    "        prox_domingo = prox_lunes + timedelta(days=6)\n",
    "        return lambda fecha_ini, fecha_fin: fecha_ini <= prox_domingo and fecha_fin >= prox_lunes\n",
    "    elif \"fin de semana\" in query:\n",
    "        viernes = hoy + timedelta((4 - hoy.weekday()) % 7)\n",
    "        domingo = viernes + timedelta(days=2)\n",
    "        return lambda fecha_ini, fecha_fin: fecha_ini <= domingo and fecha_fin >= viernes\n",
    "    else:\n",
    "        return lambda fecha_ini, fecha_fin: True  # No aplica filtro temporal\n",
    "\n",
    "\n",
    "def filtrar_por_fecha_y_seccion(docs, query):\n",
    "    criterio_fecha = detectar_intencion_temporal(query)\n",
    "    criterio_seccion = \"ocio\" if any(p in query.lower() for p in [\"ocio\", \"plan\", \"evento\", \"actividad\"]) else None\n",
    "\n",
    "    docs_filtrados = []\n",
    "    docs_sin_fecha = []\n",
    "\n",
    "    for doc in docs:\n",
    "        meta = doc.metadata\n",
    "        seccion = meta.get(\"seccion\", \"\").lower()\n",
    "        fecha_ini_str = meta.get(\"fecha_inicio\", \"\")\n",
    "        fecha_fin_str = meta.get(\"fecha_fin\", \"\")\n",
    "\n",
    "        fecha_ini = parse_fecha(fecha_ini_str) if fecha_ini_str else None\n",
    "        fecha_fin = parse_fecha(fecha_fin_str) if fecha_fin_str else fecha_ini\n",
    "\n",
    "        if not fecha_ini and not fecha_fin:\n",
    "            if criterio_seccion and seccion == criterio_seccion:\n",
    "                docs_sin_fecha.append(doc)\n",
    "            continue\n",
    "\n",
    "        if fecha_ini and fecha_fin and criterio_fecha(fecha_ini, fecha_fin):\n",
    "            if not criterio_seccion or seccion == criterio_seccion:\n",
    "                docs_filtrados.append(doc)\n",
    "\n",
    "    if len(docs_filtrados) < 5:\n",
    "        docs_filtrados += docs_sin_fecha[:3]\n",
    "\n",
    "    return docs_filtrados\n",
    "\n",
    "\n",
    "# 3. Recuperación con MMR (ajustado para diversidad)\n",
    "def retrieve(state):\n",
    "    query = state[\"query\"]\n",
    "    docs = vectorstore.max_marginal_relevance_search(query, k=10, fetch_k=50)\n",
    "    return {\"documents\": docs}\n",
    "\n",
    "# 4. Generación usando contexto real\n",
    "def generate(state):\n",
    "    docs = filtrar_por_fecha_y_seccion(state[\"documents\"], state[\"query\"])\n",
    "    query = state[\"query\"]\n",
    "\n",
    "    fecha_actual = datetime.now().strftime(\"%A, %d de %B de %Y\")\n",
    "\n",
    "    # Construir contexto claro y útil\n",
    "    context = \"\\n\\n\".join(\n",
    "        f\"{doc.page_content}\\nFuente: {doc.metadata.get('url', '')}\"\n",
    "        for doc in docs[:5]\n",
    "    )\n",
    "\n",
    "    # Prompt optimizado para Mistral:\n",
    "    prompt = f\"\"\"\n",
    "Fecha actual: {fecha_actual}\n",
    "\n",
    "Responde de forma clara, breve y profesional a la pregunta del usuario utilizando solamente la información proporcionada en el contexto. \n",
    "Escribe una respuesta en forma de párrafo basada solo en el contexto anterior. Al final de la respuesta, agrega una lista de hasta 3 enlaces relevantes extraídos del contexto.\n",
    "No inventes actividades, lugares ni enlaces. Si hay poca información, da una recomendación general y sugiere consultar los enlaces reales al final.\n",
    "\n",
    "Contexto:\n",
    "\\\"\\\"\\\"\n",
    "{context}\n",
    "\\\"\\\"\\\"\n",
    "\n",
    "Pregunta:\n",
    "{query}\n",
    "\n",
    "Respuesta:\n",
    "\"\"\"\n",
    "\n",
    "    respuesta = llm.invoke(prompt)\n",
    "\n",
    "    enlaces = {\n",
    "        doc.metadata.get(\"url\"): doc.metadata.get(\"titulo\", \"Actividad sin título\")\n",
    "        for doc in docs if doc.metadata.get(\"url\")\n",
    "    }\n",
    "    enlaces = dict(list(enlaces.items())[:3])\n",
    "\n",
    "    # Bloque de enlaces al final\n",
    "    if enlaces:\n",
    "        links_texto = (\n",
    "            \"\\n\\nPara más información sobre estas actividades, puedes consultar:\\n\" +\n",
    "            \"\\n\".join(f\"- {titulo}\\n  {url}\" for url, titulo in enlaces.items())\n",
    "        )\n",
    "    else:\n",
    "        links_texto = \"\"\n",
    "\n",
    "    return {\n",
    "        \"generation\": f\"{respuesta.strip()}{links_texto}\"\n",
    "    }\n",
    "\n",
    "graph = StateGraph(AgentState)\n",
    "graph.add_node(\"retrieve\", retrieve)\n",
    "graph.add_node(\"generate\", generate)\n",
    "graph.set_entry_point(\"retrieve\")\n",
    "graph.add_edge(\"retrieve\", \"generate\")\n",
    "graph.add_edge(\"generate\", END)\n",
    "\n",
    "rag_agent = graph.compile()\n"
   ]
  },
  {
   "cell_type": "code",
   "execution_count": 10,
   "id": "1d2bf037",
   "metadata": {},
   "outputs": [
    {
     "name": "stdout",
     "output_type": "stream",
     "text": [
      "En la ciudad de Sevilla, se pueden disfrutar diversas actividades para todas las edades. Algunas opciones incluyen un paseo nocturno por los jardines del Alcázar, un viaje submarino, una visita guiada al barrio y museo de la Macarena, donde podrás descubrir uno de los corazones más auténticos de la ciudad con una vista a una de las tradiciones sevillanas más importantes, la Semana Santa. También puedes conocer el primer partido de fútbol de España jugado en Sevilla y experimentar lo que significa ser un jugador del Sevilla FC. Te recomiendo visitar los sitios web [https://quehacerconlosninos.es/sevilla-nos-espera-3-planes-para-disfrutar-en-familia/](https://quehacerconlosninos.es/sevilla-nos-espera-3-planes-para-disfrutar-en-familia/), [https://quehacerconlosninos.es/actividades-culturales-divertidisimas-para-toda-la-familia-en-sevilla/](https://quehacerconlosninos.es/actividades-culturales-divertidisimas-para-toda-la-familia-en-sevilla/) y [https://www.sevillafutbolclub.com/](https://www.sevillafutbolclub.com/) para obtener más información sobre cada actividad y planificar tu visita a Sevilla en familia.\n",
      "\n",
      "Para más información sobre estas actividades, puedes consultar:\n",
      "- ¡Sevilla nos espera! 3 planes para disfrutar en familia\n",
      "  https://quehacerconlosninos.es/sevilla-nos-espera-3-planes-para-disfrutar-en-familia/\n",
      "- Actividades culturales divertidísimas para toda la familia en Sevilla\n",
      "  https://quehacerconlosninos.es/actividades-culturales-divertidisimas-para-toda-la-familia-en-sevilla/\n"
     ]
    }
   ],
   "source": [
    "# 6. Ejecuta una prueba\n",
    "respuesta = rag_agent.invoke({\"query\": \"¿Qué actividades hay en Sevilla ?\"})\n",
    "print(respuesta[\"generation\"])"
   ]
  },
  {
   "cell_type": "code",
   "execution_count": null,
   "id": "fe68ad76",
   "metadata": {},
   "outputs": [],
   "source": []
  }
 ],
 "metadata": {
  "kernelspec": {
   "display_name": ".venv",
   "language": "python",
   "name": "python3"
  },
  "language_info": {
   "codemirror_mode": {
    "name": "ipython",
    "version": 3
   },
   "file_extension": ".py",
   "mimetype": "text/x-python",
   "name": "python",
   "nbconvert_exporter": "python",
   "pygments_lexer": "ipython3",
   "version": "3.11.11"
  }
 },
 "nbformat": 4,
 "nbformat_minor": 5
}
