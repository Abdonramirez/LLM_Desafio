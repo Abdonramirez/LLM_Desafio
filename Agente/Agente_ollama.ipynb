{
 "cells": [
  {
   "cell_type": "code",
   "execution_count": 1,
   "id": "3966b7c3",
   "metadata": {},
   "outputs": [],
   "source": [
    "import pandas as pd\n",
    "from langchain.vectorstores import FAISS\n",
    "from langchain.text_splitter import RecursiveCharacterTextSplitter\n",
    "from langchain_huggingface.embeddings import HuggingFaceEmbeddings\n",
    "from langchain.schema import Document\n",
    "from langgraph.graph import StateGraph, END"
   ]
  },
  {
   "cell_type": "code",
   "execution_count": 2,
   "id": "9a0ef226",
   "metadata": {},
   "outputs": [],
   "source": [
    "df = pd.read_csv(\"..\\data\\processed\\Articulos_LLM.csv\")"
   ]
  },
  {
   "cell_type": "code",
   "execution_count": 3,
   "id": "724ada07",
   "metadata": {},
   "outputs": [],
   "source": [
    "docs = [\n",
    "    Document(\n",
    "        page_content=row[\"contenido\"],\n",
    "        metadata={\n",
    "            \"titulo\": row[\"titulo\"],\n",
    "            \"url\": row[\"url\"],\n",
    "            \"precio\": row.get(\"Precios\", \"\"),\n",
    "            \"fecha\": row.get(\"fechas\", \"\"),\n",
    "            \"contexto_fecha\":row.get(\"fechas_contexto\",\"\"),\n",
    "            \"edad\": row.get(\"edad\", \"\"),\n",
    "        }\n",
    "    )\n",
    "    for _, row in df.iterrows()\n",
    "]\n"
   ]
  },
  {
   "cell_type": "code",
   "execution_count": 4,
   "id": "ac784819",
   "metadata": {},
   "outputs": [],
   "source": [
    "splitter = RecursiveCharacterTextSplitter(\n",
    "    chunk_size=800,\n",
    "    chunk_overlap=100,\n",
    "    separators=[\"\\n\\n\", \"\\n\", \".\", \" \"]\n",
    ")\n",
    "\n",
    "# Crear los Document chunked\n",
    "chunked_docs = []\n",
    "\n",
    "for _, row in df.iterrows():\n",
    "    texto = row[\"contenido\"]\n",
    "    if pd.isnull(texto):\n",
    "        continue\n",
    "    chunks = splitter.split_text(texto)\n",
    "    for i, chunk in enumerate(chunks):\n",
    "        chunked_docs.append(Document(\n",
    "            page_content=chunk,\n",
    "            metadata={\n",
    "            \"titulo\": row[\"titulo\"],\n",
    "            \"url\": row[\"url\"],\n",
    "            \"precio\": row.get(\"Precios\", \"\"),\n",
    "            \"fecha\": row.get(\"fechas\", \"\"),\n",
    "            \"contexto_fecha\":row.get(\"fechas_contexto\",\"\"),\n",
    "            \"edad\": row.get(\"edad\", \"\"),\n",
    "        }\n",
    "    )\n",
    "        )"
   ]
  },
  {
   "cell_type": "code",
   "execution_count": 5,
   "id": "4c89fe6b",
   "metadata": {},
   "outputs": [],
   "source": [
    "embedding_model = HuggingFaceEmbeddings(model_name=\"sentence-transformers/all-MiniLM-L6-v2\")\n",
    "\n",
    "# Vectorstore\n",
    "vectorstore = FAISS.from_documents(chunked_docs, embedding_model)"
   ]
  },
  {
   "cell_type": "code",
   "execution_count": 6,
   "id": "1668a1f4",
   "metadata": {},
   "outputs": [
    {
     "name": "stderr",
     "output_type": "stream",
     "text": [
      "C:\\Users\\Abdon\\AppData\\Local\\Temp\\ipykernel_22556\\872245027.py:10: LangChainDeprecationWarning: The class `Ollama` was deprecated in LangChain 0.3.1 and will be removed in 1.0.0. An updated version of the class exists in the :class:`~langchain-ollama package and should be used instead. To use it run `pip install -U :class:`~langchain-ollama` and import as `from :class:`~langchain_ollama import OllamaLLM``.\n",
      "  llm = Ollama(model=\"mistral\")  # Asegúrate de ejecutar previamente: ollama serve mistral\n"
     ]
    }
   ],
   "source": [
    "from langchain.vectorstores import FAISS\n",
    "from langchain.embeddings import HuggingFaceEmbeddings\n",
    "from langchain.schema import Document\n",
    "from langgraph.graph import StateGraph, END\n",
    "from typing import TypedDict, List\n",
    "\n",
    "from langchain_community.llms import Ollama\n",
    "\n",
    "# 1. Configura tu modelo local con Ollama\n",
    "llm = Ollama(model=\"mistral\")  # Asegúrate de ejecutar previamente: ollama serve mistral\n",
    "\n",
    "# 2. Define el estado\n",
    "class AgentState(TypedDict):\n",
    "    query: str\n",
    "    documents: List[Document]\n",
    "    generation: str\n",
    "\n",
    "# 3. Recuperación con MMR (ajustado para diversidad)\n",
    "def retrieve(state):\n",
    "    query = state[\"query\"]\n",
    "    docs = vectorstore.max_marginal_relevance_search(query, k=10, fetch_k=50)\n",
    "    return {\"documents\": docs}\n",
    "\n",
    "# 4. Generación usando contexto real\n",
    "def generate(state):\n",
    "    docs = state[\"documents\"]\n",
    "    query = state[\"query\"]\n",
    "    context = \"\\n\\n\".join(doc.page_content for doc in docs)\n",
    "\n",
    "    prompt = f\"\"\"\n",
    "Contesta exclusivamente a la pregunta usando la información proporcionada. \n",
    "No inventes detalles ni enlaces si no aparecen en el contexto. \n",
    "Si no hay suficiente información, indícalo claramente.\n",
    "\n",
    "Contexto:\n",
    "{context}\n",
    "\n",
    "Pregunta: {query}\n",
    "\n",
    "Respuesta informativa y honesta:\n",
    "\"\"\"\n",
    "\n",
    "    respuesta = llm.invoke(prompt)\n",
    "\n",
    "    # Añade enlaces de los artículos utilizados\n",
    "    enlaces = {\n",
    "        doc.metadata.get(\"url\"): doc.metadata.get(\"titulo\", \"Sin título\")\n",
    "        for doc in docs if doc.metadata.get(\"url\")\n",
    "    }\n",
    "    links_texto = \"\\n\\nEnlaces relacionados:\\n\" + \"\\n\".join(f\"{titulo} → {url}\" for url, titulo in enlaces.items())\n",
    "\n",
    "    return {\n",
    "        \"generation\": f\"{respuesta.strip()}{links_texto}\"\n",
    "    }\n",
    "\n",
    "# 5. Arma el grafo del agente\n",
    "graph = StateGraph(AgentState)\n",
    "graph.add_node(\"retrieve\", retrieve)\n",
    "graph.add_node(\"generate\", generate)\n",
    "graph.set_entry_point(\"retrieve\")\n",
    "graph.add_edge(\"retrieve\", \"generate\")\n",
    "graph.add_edge(\"generate\", END)\n",
    "\n",
    "rag_agent = graph.compile()\n"
   ]
  },
  {
   "cell_type": "code",
   "execution_count": 8,
   "id": "1d2bf037",
   "metadata": {},
   "outputs": [
    {
     "name": "stdout",
     "output_type": "stream",
     "text": [
      "Este fin de semana en Madrid, hay varias actividades que podrías encontrar. Una de ellas es la carrera solidaria y educativa del Museo de la Felicidad, dedicada a la serie Friends, que se realiza en Espacio Ibercaja Delicias. La entrada varía dependiendo del tipo de paquete elegido y su precio va desde los 20 hasta los 150 euros.\n",
      "   Además, en el Museo de la Felicidad, también puedes disfrutar de una visita diferente que combina diversión, aprendizaje y bienestar, perfecta para personas de todas las edades.\n",
      "   Por otro lado, la Bolsa Mágica es un espacio familiar de juego libre especializado en la etapa 0-3 años donde los niños pueden explorar, experimentar y socializar en un entorno seguro y preparado. Allí hay actividades sensoriales, música, cuentos y talleres guiados.\n",
      "   Es recomendable siempre verificar la agenda de eventos en Madrid y preguntar por posibles ofertas y promociones que se pueden encontrar en estos lugares.\n",
      "\n",
      "Enlaces relacionados:\n",
      "Los mejores restaurantes temáticos en Madrid para celebrar el Día del Padre en familia → https://quehacerconlosninos.es/restaurantes-tematicos-para-disfrutar-en-familia-este-dia-del-padre/\n",
      "El Museo de la Felicidad, más de 20 experiencias divertidas para disfrutar con los peques → https://quehacerconlosninos.es/el-museo-de-la-felicidad-mas-de-20-experiencias-divertidas-para-disfrutar-en-familia/\n",
      "The Slime Experience Madrid, un plan sensorial para los niños (y sin mancharnos la casa) → https://quehacerconlosninos.es/the-slime-experience-madrid-un-plan-sensorial-para-los-ninos-y-sin-mancharnos-la-casa/\n",
      "‘We Call It Ballet 2025’ en Madrid: un espectáculo de danza y luces → https://quehacerconlosninos.es/we-call-it-ballet-2025-en-madrid-un-espectaculo-de-danza-y-luces/\n",
      "Aún puedes disfrutar de la experiencia del Juego del Calamar → https://quehacerconlosninos.es/aun-puedes-disfrutar-de-la-experiencia-del-juego-del-calamar/\n",
      "Llega la VIII carrera solidaria Fundación Real Madrid 2025: deporte, valores y diversión → https://quehacerconlosninos.es/llega-la-viii-carrera-solidaria-fundacion-real-madrid-2025-deporte-valores-y-diversion/\n",
      "Un plan en familia ideal: ‘Friends Experience’ en Madrid → https://quehacerconlosninos.es/un-plan-en-familia-ideal-friends-experience-en-madrid/\n",
      "Los mejores planes en Madrid para niños de 2 a 3 años → https://quehacerconlosninos.es/los-mejores-planes-en-madrid-para-ninos-de-2-a-3-anos/\n"
     ]
    }
   ],
   "source": [
    "# 6. Ejecuta una prueba\n",
    "respuesta = rag_agent.invoke({\"query\": \"¿Qué actividades hay este fin de semana de pago?\"})\n",
    "print(respuesta[\"generation\"])"
   ]
  },
  {
   "cell_type": "code",
   "execution_count": null,
   "id": "b67826d5",
   "metadata": {},
   "outputs": [],
   "source": []
  },
  {
   "cell_type": "code",
   "execution_count": null,
   "id": "fe68ad76",
   "metadata": {},
   "outputs": [],
   "source": []
  }
 ],
 "metadata": {
  "kernelspec": {
   "display_name": ".venv",
   "language": "python",
   "name": "python3"
  },
  "language_info": {
   "codemirror_mode": {
    "name": "ipython",
    "version": 3
   },
   "file_extension": ".py",
   "mimetype": "text/x-python",
   "name": "python",
   "nbconvert_exporter": "python",
   "pygments_lexer": "ipython3",
   "version": "3.11.11"
  }
 },
 "nbformat": 4,
 "nbformat_minor": 5
}
