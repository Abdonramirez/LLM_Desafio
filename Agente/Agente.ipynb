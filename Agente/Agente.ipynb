{
 "cells": [
  {
   "cell_type": "code",
   "execution_count": 1,
   "id": "3966b7c3",
   "metadata": {},
   "outputs": [],
   "source": [
    "import pandas as pd\n",
    "from langchain.vectorstores import FAISS\n",
    "from langchain.text_splitter import RecursiveCharacterTextSplitter\n",
    "from langchain_huggingface.embeddings import HuggingFaceEmbeddings\n",
    "from langchain.schema import Document"
   ]
  },
  {
   "cell_type": "code",
   "execution_count": 2,
   "id": "9a0ef226",
   "metadata": {},
   "outputs": [],
   "source": [
    "df = pd.read_csv(\"..\\data\\processed\\Articulos_LLM.csv\")"
   ]
  },
  {
   "cell_type": "code",
   "execution_count": 3,
   "id": "724ada07",
   "metadata": {},
   "outputs": [],
   "source": [
    "docs = [\n",
    "    Document(\n",
    "        page_content=row[\"contenido\"],\n",
    "        metadata={\n",
    "            \"titulo\": row[\"titulo\"],\n",
    "            \"url\": row[\"url\"],\n",
    "            \"precio\": row.get(\"Precios\", \"\"),\n",
    "            \"fecha\": row.get(\"fechas\", \"\"),\n",
    "            \"contexto_fecha\":row.get(\"fechas_contexto\",\"\"),\n",
    "            \"edad\": row.get(\"edad\", \"\"),\n",
    "        }\n",
    "    )\n",
    "    for _, row in df.iterrows()\n",
    "]\n"
   ]
  },
  {
   "cell_type": "code",
   "execution_count": 4,
   "id": "ac784819",
   "metadata": {},
   "outputs": [],
   "source": [
    "splitter = RecursiveCharacterTextSplitter(\n",
    "    chunk_size=800,\n",
    "    chunk_overlap=100,\n",
    "    separators=[\"\\n\\n\", \"\\n\", \".\", \" \"]\n",
    ")\n",
    "\n",
    "# Crear los Document chunked\n",
    "chunked_docs = []\n",
    "\n",
    "for _, row in df.iterrows():\n",
    "    texto = row[\"contenido\"]\n",
    "    if pd.isnull(texto):\n",
    "        continue\n",
    "    chunks = splitter.split_text(texto)\n",
    "    for i, chunk in enumerate(chunks):\n",
    "        chunked_docs.append(Document(\n",
    "            page_content=chunk,\n",
    "            metadata={\n",
    "            \"titulo\": row[\"titulo\"],\n",
    "            \"url\": row[\"url\"],\n",
    "            \"precio\": row.get(\"Precios\", \"\"),\n",
    "            \"fecha\": row.get(\"fechas\", \"\"),\n",
    "            \"contexto_fecha\":row.get(\"fechas_contexto\",\"\"),\n",
    "            \"edad\": row.get(\"edad\", \"\"),\n",
    "        }\n",
    "    )\n",
    "        )"
   ]
  },
  {
   "cell_type": "code",
   "execution_count": 5,
   "id": "4c89fe6b",
   "metadata": {},
   "outputs": [
    {
     "name": "stderr",
     "output_type": "stream",
     "text": [
      "c:\\Users\\Abdon.RAMIREZ-BRICEN\\Documents\\LLM_Desafio\\.venv\\Lib\\site-packages\\tqdm\\auto.py:21: TqdmWarning: IProgress not found. Please update jupyter and ipywidgets. See https://ipywidgets.readthedocs.io/en/stable/user_install.html\n",
      "  from .autonotebook import tqdm as notebook_tqdm\n"
     ]
    }
   ],
   "source": [
    "embedding_model = HuggingFaceEmbeddings(model_name=\"sentence-transformers/all-MiniLM-L6-v2\")\n",
    "\n",
    "# Vectorstore\n",
    "vectorstore = FAISS.from_documents(chunked_docs, embedding_model)"
   ]
  },
  {
   "cell_type": "code",
   "execution_count": 7,
   "id": "67d242cf",
   "metadata": {},
   "outputs": [],
   "source": [
    "from langchain_huggingface import ChatHuggingFace, HuggingFaceEndpoint\n",
    "\n",
    "# Modelo local desde Hugging Face\n",
    "model_name = \"microsoft/Phi-3-mini-4k-instruct\"\n",
    "llm = HuggingFaceEndpoint(\n",
    "    repo_id=model_name,\n",
    "    task=\"text-generation\",\n",
    "    max_new_tokens=512,\n",
    "    do_sample=False,\n",
    "    repetition_penalty=1.03,\n",
    ")\n",
    "\n",
    "chat_model = ChatHuggingFace(llm=llm)"
   ]
  },
  {
   "cell_type": "code",
   "execution_count": 8,
   "id": "4cb678b5",
   "metadata": {},
   "outputs": [],
   "source": [
    "from langgraph.graph import StateGraph, END\n",
    "from typing import TypedDict, List\n",
    "from langchain.schema import Document\n",
    "\n",
    "# Estado del agente\n",
    "class AgentState(TypedDict):\n",
    "    query: str\n",
    "    documents: List[Document]\n",
    "    generation: str\n",
    "\n",
    "# Paso retrieval\n",
    "def retrieve(state):\n",
    "    query = state[\"query\"]\n",
    "    docs = vectorstore.similarity_search(query, k=10)\n",
    "    return {\"documents\": docs}\n",
    "\n",
    "# Paso generación usando contexto\n",
    "def generate(state):\n",
    "    docs = state[\"documents\"]\n",
    "    query = state[\"query\"]\n",
    "    context = \"\\n\\n\".join(doc.page_content for doc in docs)\n",
    "\n",
    "    prompt = f\"\"\"Contexto:\\n{context}\\n\\nPregunta: {query}\\nRespuesta breve:\"\"\"\n",
    "\n",
    "    respuesta = chat_model.invoke(prompt)\n",
    "    return {\"generation\": respuesta}\n",
    "\n",
    "# Grafo del agente\n",
    "graph = StateGraph(AgentState)\n",
    "graph.add_node(\"retrieve\", retrieve)\n",
    "graph.add_node(\"generate\", generate)\n",
    "graph.set_entry_point(\"retrieve\")\n",
    "graph.add_edge(\"retrieve\", \"generate\")\n",
    "graph.add_edge(\"generate\", END)\n",
    "\n",
    "# Compilar\n",
    "rag_agent = graph.compile()"
   ]
  },
  {
   "cell_type": "code",
   "execution_count": 9,
   "id": "1061841e",
   "metadata": {},
   "outputs": [],
   "source": [
    "# respuesta = rag_agent.invoke({\"query\": \"¿Qué actividades gratuitas hay este fin de semana?\"})\n",
    "# print(respuesta[\"generation\"])"
   ]
  },
  {
   "cell_type": "code",
   "execution_count": null,
   "id": "01704841",
   "metadata": {},
   "outputs": [],
   "source": []
  },
  {
   "cell_type": "code",
   "execution_count": null,
   "id": "ee6ac601",
   "metadata": {},
   "outputs": [],
   "source": []
  },
  {
   "cell_type": "code",
   "execution_count": null,
   "id": "1d2bf037",
   "metadata": {},
   "outputs": [],
   "source": []
  },
  {
   "cell_type": "code",
   "execution_count": null,
   "id": "b67826d5",
   "metadata": {},
   "outputs": [],
   "source": []
  },
  {
   "cell_type": "code",
   "execution_count": null,
   "id": "fe68ad76",
   "metadata": {},
   "outputs": [],
   "source": []
  }
 ],
 "metadata": {
  "kernelspec": {
   "display_name": ".venv",
   "language": "python",
   "name": "python3"
  },
  "language_info": {
   "codemirror_mode": {
    "name": "ipython",
    "version": 3
   },
   "file_extension": ".py",
   "mimetype": "text/x-python",
   "name": "python",
   "nbconvert_exporter": "python",
   "pygments_lexer": "ipython3",
   "version": "3.11.11"
  }
 },
 "nbformat": 4,
 "nbformat_minor": 5
}
