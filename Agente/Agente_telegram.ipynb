{
 "cells": [
  {
   "cell_type": "code",
   "execution_count": 175,
   "id": "3e2b775c",
   "metadata": {},
   "outputs": [],
   "source": [
    "# Importamos librerías necesarias\n",
    "import telebot\n",
    "import pandas as pd\n",
    "from sklearn.feature_extraction.text import TfidfVectorizer\n",
    "from sklearn.metrics.pairwise import cosine_similarity\n",
    "import numpy as np\n",
    "import re"
   ]
  },
  {
   "cell_type": "code",
   "execution_count": null,
   "id": "2ee1f66a",
   "metadata": {},
   "outputs": [],
   "source": [
    "# Variables de configuración\n",
    "TOKEN = ''\n",
    "CSV_FILE = '..\\data\\processed\\Articulos_LLM6.csv'  # ← tu archivo CSV\n",
    "\n",
    "# Cargamos el CSV de artículos\n",
    "articulos_df = pd.read_csv(CSV_FILE)\n",
    "articulos_df = articulos_df.drop_duplicates()\n",
    "\n",
    "# Vamos a unir titulo + contenido + fechas + precios + edad\n",
    "articulos_df['texto_completo'] = (\n",
    "    articulos_df['titulo'].fillna('') + '. ' +\n",
    "    articulos_df['contenido'].fillna('') + ' ' +\n",
    "    articulos_df['fechas_contexto'].fillna('') + ' ' +\n",
    "    articulos_df['Precios'].fillna('') + ' '\n",
    ")"
   ]
  },
  {
   "cell_type": "code",
   "execution_count": 177,
   "id": "719ec61b",
   "metadata": {},
   "outputs": [
    {
     "name": "stderr",
     "output_type": "stream",
     "text": [
      "[nltk_data] Downloading package stopwords to C:\\Users\\Abdon.RAMIREZ-\n",
      "[nltk_data]     BRICEN\\AppData\\Roaming\\nltk_data...\n",
      "[nltk_data]   Package stopwords is already up-to-date!\n"
     ]
    }
   ],
   "source": [
    "import nltk\n",
    "from nltk.corpus import stopwords\n",
    "\n",
    "# Asegúrate de tener descargado el paquete de stopwords de NLTK\n",
    "nltk.download('stopwords')\n",
    "\n",
    "# Cargamos las stopwords en español\n",
    "stopwords_es = stopwords.words('spanish')\n",
    "\n",
    "# Creamos el TF-IDF usando las stopwords en español\n",
    "tfidf_vectorizer = TfidfVectorizer(stop_words=stopwords_es)\n",
    "\n",
    "# Ahora sí, transformamos\n",
    "tfidf_matrix = tfidf_vectorizer.fit_transform(articulos_df['texto_completo'])\n"
   ]
  },
  {
   "cell_type": "code",
   "execution_count": 179,
   "id": "831a726f",
   "metadata": {},
   "outputs": [
    {
     "name": "stdout",
     "output_type": "stream",
     "text": [
      "🤖 Bot activo y esperando mensajes...\n",
      "DEBUG 🛠 Fecha: None a None\n",
      "DEBUG 🛠 Ciudad: None\n"
     ]
    }
   ],
   "source": [
    "from datetime import datetime, timedelta, date\n",
    "import dateparser\n",
    "import re\n",
    "import telebot\n",
    "import numpy as np\n",
    "from sklearn.metrics.pairwise import cosine_similarity\n",
    "\n",
    "# Inicializamos el bot\n",
    "bot = telebot.TeleBot(TOKEN)\n",
    "\n",
    "# --- Interpretar fechas desde la consulta --\n",
    "\n",
    "# Interpretar fechas desde pregunta del usuario\n",
    "def interpretar_fecha_usuario(pregunta):\n",
    "    pregunta = pregunta.lower()\n",
    "    hoy = datetime.now()\n",
    "\n",
    "    if 'hoy' in pregunta:\n",
    "        return hoy.date(), hoy.date()\n",
    "    elif 'mañana' in pregunta:\n",
    "        manana = hoy + timedelta(days=1)\n",
    "        return manana.date(), manana.date()\n",
    "    elif 'semana que viene' in pregunta or 'semana próxima' in pregunta or 'semana siguiente' in pregunta:\n",
    "        inicio = hoy + timedelta(days=(7 - hoy.weekday()))\n",
    "        fin = inicio + timedelta(days=6)\n",
    "        return inicio.date(), fin.date()\n",
    "    elif 'esta semana' in pregunta:\n",
    "        inicio = hoy - timedelta(days=hoy.weekday())\n",
    "        fin = inicio + timedelta(days=6)\n",
    "        return inicio.date(), fin.date()\n",
    "    elif 'fin de semana' in pregunta or 'sábado' in pregunta or 'domingo' in pregunta:\n",
    "        dias_hasta_sabado = (5 - hoy.weekday()) % 7\n",
    "        sabado = hoy + timedelta(days=dias_hasta_sabado)\n",
    "        domingo = sabado + timedelta(days=1)\n",
    "        if hoy.weekday() == 6:  # domingo\n",
    "            return hoy.date(), hoy.date()\n",
    "        return sabado.date(), domingo.date()\n",
    "    else:\n",
    "        return None, None\n",
    "\n",
    "# Detectar ciudad\n",
    "def detectar_ciudad(pregunta):\n",
    "    ciudades = [\"madrid\", \"barcelona\", \"malaga\", \"sevilla\", \"valencia\", \"zaragoza\"]\n",
    "    pregunta = pregunta.lower()\n",
    "    for ciudad in ciudades:\n",
    "        if ciudad in pregunta:\n",
    "            return ciudad.capitalize()\n",
    "    return None\n",
    "\n",
    "# Preparar fechas dataset\n",
    "def preparar_fechas_dataset(df):\n",
    "    fecha_inicio_parseada = []\n",
    "    fecha_fin_parseada = []\n",
    "\n",
    "    for inicio, fin in zip(df['fecha_inicio'].fillna(''), df['fecha_fin'].fillna('')):\n",
    "        inicio_dt = dateparser.parse(str(inicio), languages=['es'])\n",
    "        fecha_inicio_parseada.append(inicio_dt.date() if inicio_dt else None)\n",
    "\n",
    "        fin_dt = dateparser.parse(str(fin), languages=['es'])\n",
    "        fecha_fin_parseada.append(fin_dt.date() if fin_dt else None)\n",
    "\n",
    "    df['fecha_inicio_parseada'] = fecha_inicio_parseada\n",
    "    df['fecha_fin_parseada'] = fecha_fin_parseada\n",
    "\n",
    "    df['fecha_fin_parseada'] = pd.to_datetime(df['fecha_fin_parseada'], errors='coerce')\n",
    "    df['fecha_inicio_parseada'] = pd.to_datetime(df['fecha_inicio_parseada'], errors='coerce')\n",
    "    return df\n",
    "\n",
    "def filtrar_eventos_futuros(df):\n",
    "    hoy = pd.Timestamp(datetime.now().date())\n",
    "\n",
    "    filtrados = df[\n",
    "        (df['fecha_fin_parseada'].notnull()) & (df['fecha_fin_parseada'] >= hoy) &\n",
    "        (df['fecha_inicio_parseada'].notnull()) & (df['fecha_inicio_parseada'] >= hoy)\n",
    "    ]\n",
    "\n",
    "    return filtrados\n",
    "\n",
    "\n",
    "# Suponiendo que ya tienes articulos_df y tfidf_vectorizer cargados\n",
    "articulos_df = preparar_fechas_dataset(articulos_df)\n",
    "articulos_df = filtrar_eventos_futuros(articulos_df)\n",
    "\n",
    "# --- Buscar y responder actividad ---\n",
    "def buscar_respuesta(pregunta_usuario):\n",
    "    hoy = pd.Timestamp(datetime.now().date())\n",
    "    fecha_inicio_consulta, fecha_fin_consulta = interpretar_fecha_usuario(pregunta_usuario)\n",
    "    ciudad_consulta = detectar_ciudad(pregunta_usuario)\n",
    "\n",
    "    print(f\"DEBUG 🛠 Fecha: {fecha_inicio_consulta} a {fecha_fin_consulta}\")\n",
    "    print(f\"DEBUG 🛠 Ciudad: {ciudad_consulta}\")\n",
    "\n",
    "    filtrados = articulos_df.copy()\n",
    "    # Ya no necesitas hacer esto si lo hiciste en preparar_fechas_dataset:\n",
    "    # articulos_df['fecha_fin_parseada'] = pd.to_datetime(...)\n",
    "    # Filtro robusto y eficiente sin apply\n",
    "    filtrados = filtrados[\n",
    "        (filtrados['fecha_fin_parseada'].notnull()) & (filtrados['fecha_fin_parseada'] >= hoy) &\n",
    "        (filtrados['fecha_inicio_parseada'].notnull()) & (filtrados['fecha_inicio_parseada'] >= hoy)\n",
    "    ]\n",
    "\n",
    "    \n",
    "    if fecha_inicio_consulta and fecha_fin_consulta:\n",
    "        fecha_inicio_consulta_ts = pd.Timestamp(fecha_inicio_consulta)\n",
    "        fecha_fin_consulta_ts = pd.Timestamp(fecha_fin_consulta)\n",
    "\n",
    "        filtrados = filtrados[\n",
    "            (filtrados['fecha_inicio_parseada'].apply(lambda x: isinstance(x, date) and x <= fecha_fin_consulta_ts)) &\n",
    "            (filtrados['fecha_fin_parseada'].apply(lambda x: isinstance(x, date) and x >= fecha_inicio_consulta_ts))\n",
    "        ]\n",
    "\n",
    "    if ciudad_consulta:\n",
    "        filtrados = filtrados[filtrados['texto_completo'].str.lower().str.contains(ciudad_consulta.lower())]\n",
    "\n",
    "    if filtrados.empty:\n",
    "        return \"🤔 No encontré actividades para esa ciudad y fecha. ¡Intenta preguntar otra cosa!\"\n",
    "\n",
    "    # TF-IDF búsqueda\n",
    "    tfidf_matrix_filtrada = tfidf_vectorizer.transform(filtrados['texto_completo'])\n",
    "    pregunta_vectorizada = tfidf_vectorizer.transform([pregunta_usuario])\n",
    "    similitudes = cosine_similarity(pregunta_vectorizada, tfidf_matrix_filtrada)\n",
    "\n",
    "    filtrados = filtrados.copy()\n",
    "    filtrados['similitud'] = similitudes[0]\n",
    "    filtrados = filtrados.sort_values(by='similitud', ascending=False)\n",
    "\n",
    "    # Evitar repetir URLs en la misma respuesta\n",
    "    urls_vistas = set()\n",
    "    respuesta = \"\"\n",
    "    count = 0\n",
    "\n",
    "    for _, articulo in filtrados.iterrows():\n",
    "        if articulo['url'] in urls_vistas:\n",
    "            continue\n",
    "        urls_vistas.add(articulo['url'])\n",
    "\n",
    "        respuesta += (\n",
    "            f\"✅ *{articulo['titulo']}*\\n\"\n",
    "            f\"{articulo['contenido'][:300]}...\\n\"\n",
    "            f\"💰 Precio: {articulo['Precios']}\\n\"\n",
    "            f\"🔗 [Más info]({articulo['url']})\\n\\n\"\n",
    "        )\n",
    "\n",
    "        count += 1\n",
    "        if count == 3:\n",
    "            break\n",
    "\n",
    "    return respuesta if respuesta else \"🤔 No encontré actividades únicas para mostrar.\"\n",
    "\n",
    "# --- Bot handlers ---\n",
    "@bot.message_handler(commands=['start'])\n",
    "def start(message):\n",
    "    chat_id = message.chat.id\n",
    "    with open('..\\QHCN.jpg', 'rb') as photo:\n",
    "        bot.send_photo(chat_id, photo)\n",
    "\n",
    "    mensaje_bienvenida = (\n",
    "        \"👋 ¡Hola! Soy tu asistente virtual para ayudarte a buscar actividades.\\n\\n\"\n",
    "        \"Puedes preguntarme cosas como:\\n\"\n",
    "        \"📌 ¿Qué actividad puedo hacer hoy?\\n\"\n",
    "        \"📌 A mi hijo/a le gusta el deporte, ¿qué podría hacer esta semana?\\n\"\n",
    "        \"📌 ¿Qué actividades hay en Sevilla hoy?\\n\"\n",
    "        \"📌 ¿Qué actividades puedo hacer este fin de semana gratis?\\n\\n\"\n",
    "        \"¡Estoy aquí para ayudarte! 🎯\"\n",
    "    )\n",
    "    bot.send_message(chat_id, mensaje_bienvenida, parse_mode='Markdown')\n",
    "\n",
    "@bot.message_handler(func=lambda message: True)\n",
    "def responder(message):\n",
    "    consulta = message.text\n",
    "    respuesta = buscar_respuesta(consulta)\n",
    "    bot.send_message(message.chat.id, respuesta, parse_mode='Markdown')\n",
    "\n",
    "# --- Arranque del bot ---\n",
    "print(\"🤖 Bot activo y esperando mensajes...\")\n",
    "bot.polling()\n"
   ]
  },
  {
   "cell_type": "code",
   "execution_count": 14,
   "id": "a9f8392d",
   "metadata": {},
   "outputs": [],
   "source": [
    "df  = preparar_fechas_dataset(articulos_df)"
   ]
  },
  {
   "cell_type": "code",
   "execution_count": null,
   "id": "88ddb895",
   "metadata": {},
   "outputs": [
    {
     "name": "stdout",
     "output_type": "stream",
     "text": [
      "<class 'pandas.core.frame.DataFrame'>\n",
      "RangeIndex: 690 entries, 0 to 689\n",
      "Data columns (total 13 columns):\n",
      " #   Column                 Non-Null Count  Dtype \n",
      "---  ------                 --------------  ----- \n",
      " 0   ciudad                 690 non-null    object\n",
      " 1   seccion                690 non-null    object\n",
      " 2   titulo                 690 non-null    object\n",
      " 3   url                    690 non-null    object\n",
      " 4   contenido              690 non-null    object\n",
      " 5   fecha_inicio           372 non-null    object\n",
      " 6   fecha_fin              372 non-null    object\n",
      " 7   fechas                 690 non-null    object\n",
      " 8   Precios                690 non-null    object\n",
      " 9   fechas_contexto        366 non-null    object\n",
      " 10  texto_completo         690 non-null    object\n",
      " 11  fecha_inicio_parseada  372 non-null    object\n",
      " 12  fecha_fin_parseada     372 non-null    object\n",
      "dtypes: object(13)\n",
      "memory usage: 70.2+ KB\n"
     ]
    }
   ],
   "source": [
    "df.info()"
   ]
  },
  {
   "cell_type": "code",
   "execution_count": null,
   "id": "1ee7e00e",
   "metadata": {},
   "outputs": [],
   "source": [
    "df['fecha_fin_parseada'] = pd.to_datetime(df['fecha_fin_parseada'], errors='coerce')\n",
    "df['fecha_inicio_parseada'] = pd.to_datetime(df['fecha_inicio_parseada'], errors='coerce')"
   ]
  },
  {
   "cell_type": "code",
   "execution_count": null,
   "id": "c6c62529",
   "metadata": {},
   "outputs": [
    {
     "name": "stdout",
     "output_type": "stream",
     "text": [
      "<class 'pandas.core.frame.DataFrame'>\n",
      "RangeIndex: 690 entries, 0 to 689\n",
      "Data columns (total 13 columns):\n",
      " #   Column                 Non-Null Count  Dtype         \n",
      "---  ------                 --------------  -----         \n",
      " 0   ciudad                 690 non-null    object        \n",
      " 1   seccion                690 non-null    object        \n",
      " 2   titulo                 690 non-null    object        \n",
      " 3   url                    690 non-null    object        \n",
      " 4   contenido              690 non-null    object        \n",
      " 5   fecha_inicio           372 non-null    object        \n",
      " 6   fecha_fin              372 non-null    object        \n",
      " 7   fechas                 690 non-null    object        \n",
      " 8   Precios                690 non-null    object        \n",
      " 9   fechas_contexto        366 non-null    object        \n",
      " 10  texto_completo         690 non-null    object        \n",
      " 11  fecha_inicio_parseada  371 non-null    datetime64[ns]\n",
      " 12  fecha_fin_parseada     370 non-null    datetime64[ns]\n",
      "dtypes: datetime64[ns](2), object(11)\n",
      "memory usage: 70.2+ KB\n"
     ]
    }
   ],
   "source": [
    "df.info()"
   ]
  },
  {
   "cell_type": "code",
   "execution_count": null,
   "id": "67fd265c",
   "metadata": {},
   "outputs": [],
   "source": [
    "hoy = datetime.now()\n",
    "filtrados = df[df['fecha_fin_parseada'].apply(lambda x: isinstance(x, date) and x >= hoy)]\n",
    "filtrados = filtrados[filtrados['fecha_inicio_parseada'].apply(lambda x: isinstance(x, date) and x >= hoy)]"
   ]
  },
  {
   "cell_type": "code",
   "execution_count": null,
   "id": "ef70b874",
   "metadata": {},
   "outputs": [
    {
     "name": "stdout",
     "output_type": "stream",
     "text": [
      "<class 'pandas.core.frame.DataFrame'>\n",
      "Index: 185 entries, 3 to 676\n",
      "Data columns (total 13 columns):\n",
      " #   Column                 Non-Null Count  Dtype         \n",
      "---  ------                 --------------  -----         \n",
      " 0   ciudad                 185 non-null    object        \n",
      " 1   seccion                185 non-null    object        \n",
      " 2   titulo                 185 non-null    object        \n",
      " 3   url                    185 non-null    object        \n",
      " 4   contenido              185 non-null    object        \n",
      " 5   fecha_inicio           185 non-null    object        \n",
      " 6   fecha_fin              185 non-null    object        \n",
      " 7   fechas                 185 non-null    object        \n",
      " 8   Precios                185 non-null    object        \n",
      " 9   fechas_contexto        183 non-null    object        \n",
      " 10  texto_completo         185 non-null    object        \n",
      " 11  fecha_inicio_parseada  185 non-null    datetime64[ns]\n",
      " 12  fecha_fin_parseada     185 non-null    datetime64[ns]\n",
      "dtypes: datetime64[ns](2), object(11)\n",
      "memory usage: 20.2+ KB\n"
     ]
    }
   ],
   "source": [
    "filtrados.info()"
   ]
  },
  {
   "cell_type": "code",
   "execution_count": null,
   "id": "0b52c99b",
   "metadata": {},
   "outputs": [],
   "source": [
    "fecha_inicio_consulta, fecha_fin_consulta = interpretar_fecha_usuario('que actividad hay para madrid hoy')\n",
    "ciudad_consulta = detectar_ciudad('que actividad hay para madrid hoy')"
   ]
  },
  {
   "cell_type": "code",
   "execution_count": null,
   "id": "9177585e",
   "metadata": {},
   "outputs": [],
   "source": [
    "# Al preparar el dataset, asegúrate de hacer esto:\n",
    "df['fecha_inicio_parseada'] = pd.to_datetime(df['fecha_inicio'], errors='coerce')\n",
    "df['fecha_fin_parseada'] = pd.to_datetime(df['fecha_fin'], errors='coerce')\n",
    "\n",
    "# Y conviertes las fechas de consulta a Timestamp:\n",
    "fecha_inicio_consulta_ts = pd.to_datetime(fecha_inicio_consulta)\n",
    "fecha_fin_consulta_ts = pd.to_datetime(fecha_fin_consulta)\n",
    "\n",
    "# Entonces sí puedes hacer filtrado sin .apply:\n",
    "filtrados = filtrados[\n",
    "    (filtrados['fecha_inicio_parseada'] <= fecha_fin_consulta_ts) &\n",
    "    (filtrados['fecha_fin_parseada'] >= fecha_inicio_consulta_ts)\n",
    "]\n"
   ]
  },
  {
   "cell_type": "code",
   "execution_count": null,
   "id": "5e582e3d",
   "metadata": {},
   "outputs": [],
   "source": [
    "fecha_inicio_consulta_ts = pd.to_datetime(fecha_inicio_consulta)\n",
    "fecha_fin_consulta_ts = pd.to_datetime(fecha_fin_consulta)\n",
    "\n",
    "filtrados = filtrados[\n",
    "    (filtrados['fecha_inicio_parseada'] <= fecha_fin_consulta_ts) &\n",
    "    (filtrados['fecha_fin_parseada'] >= fecha_inicio_consulta_ts)\n",
    "]\n"
   ]
  },
  {
   "cell_type": "code",
   "execution_count": null,
   "id": "aa1cb23b",
   "metadata": {},
   "outputs": [
    {
     "data": {
      "text/html": [
       "<div>\n",
       "<style scoped>\n",
       "    .dataframe tbody tr th:only-of-type {\n",
       "        vertical-align: middle;\n",
       "    }\n",
       "\n",
       "    .dataframe tbody tr th {\n",
       "        vertical-align: top;\n",
       "    }\n",
       "\n",
       "    .dataframe thead th {\n",
       "        text-align: right;\n",
       "    }\n",
       "</style>\n",
       "<table border=\"1\" class=\"dataframe\">\n",
       "  <thead>\n",
       "    <tr style=\"text-align: right;\">\n",
       "      <th></th>\n",
       "      <th>ciudad</th>\n",
       "      <th>seccion</th>\n",
       "      <th>titulo</th>\n",
       "      <th>url</th>\n",
       "      <th>contenido</th>\n",
       "      <th>fecha_inicio</th>\n",
       "      <th>fecha_fin</th>\n",
       "      <th>fechas</th>\n",
       "      <th>Precios</th>\n",
       "      <th>fechas_contexto</th>\n",
       "      <th>texto_completo</th>\n",
       "      <th>fecha_inicio_parseada</th>\n",
       "      <th>fecha_fin_parseada</th>\n",
       "    </tr>\n",
       "  </thead>\n",
       "  <tbody>\n",
       "  </tbody>\n",
       "</table>\n",
       "</div>"
      ],
      "text/plain": [
       "Empty DataFrame\n",
       "Columns: [ciudad, seccion, titulo, url, contenido, fecha_inicio, fecha_fin, fechas, Precios, fechas_contexto, texto_completo, fecha_inicio_parseada, fecha_fin_parseada]\n",
       "Index: []"
      ]
     },
     "execution_count": 144,
     "metadata": {},
     "output_type": "execute_result"
    }
   ],
   "source": [
    "filtrados"
   ]
  },
  {
   "cell_type": "code",
   "execution_count": null,
   "id": "23773cf1",
   "metadata": {},
   "outputs": [
    {
     "data": {
      "text/plain": [
       "<DatetimeArray>\n",
       "[                'NaT', '2025-05-15 00:00:00', '2025-05-11 00:00:00',\n",
       " '2025-06-08 00:00:00', '2025-04-26 00:00:00', '2025-05-04 00:00:00',\n",
       " '2025-05-24 00:00:00', '2025-04-27 00:00:00', '2025-05-03 00:00:00',\n",
       " '2025-04-11 00:00:00',\n",
       " ...\n",
       " '2025-08-08 00:00:00', '2025-12-05 00:00:00', '2021-07-09 00:00:00',\n",
       " '2025-10-24 00:00:00', '2025-11-10 00:00:00', '2018-02-18 00:00:00',\n",
       " '2025-04-06 00:00:00', '2025-11-07 00:00:00', '2025-10-13 00:00:00',\n",
       " '2025-12-26 00:00:00']\n",
       "Length: 212, dtype: datetime64[ns]"
      ]
     },
     "execution_count": 140,
     "metadata": {},
     "output_type": "execute_result"
    }
   ],
   "source": [
    "df['fecha_inicio_parseada'].unique()"
   ]
  }
 ],
 "metadata": {
  "kernelspec": {
   "display_name": ".venv",
   "language": "python",
   "name": "python3"
  },
  "language_info": {
   "codemirror_mode": {
    "name": "ipython",
    "version": 3
   },
   "file_extension": ".py",
   "mimetype": "text/x-python",
   "name": "python",
   "nbconvert_exporter": "python",
   "pygments_lexer": "ipython3",
   "version": "3.11.11"
  }
 },
 "nbformat": 4,
 "nbformat_minor": 5
}
